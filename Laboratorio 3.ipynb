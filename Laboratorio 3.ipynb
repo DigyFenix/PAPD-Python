{
 "cells": [
  {
   "cell_type": "markdown",
   "metadata": {},
   "source": [
    "### Ejercicio 1\n",
    "**Cree un procedimiento en Python que, dado un número entero en decimal, despliegue su representación en número binario.**\n",
    "\n",
    "Se usará la función `bin()` integrada en Python, omitiendo el prefijo `0b` para mostrar solo los dígitos binarios.\n"
   ]
  },
  {
   "cell_type": "code",
   "execution_count": 1,
   "metadata": {},
   "outputs": [
    {
     "name": "stdout",
     "output_type": "stream",
     "text": [
      "El número 25 en binario es: 11001\n"
     ]
    }
   ],
   "source": [
    "def decimal_a_binario(n):\n",
    "    binario = bin(n)[2:]  # eliminar el prefijo '0b'\n",
    "    print(f\"El número {n} en binario es: {binario}\")\n",
    "\n",
    "# Prueba\n",
    "decimal_a_binario(25)\n"
   ]
  },
  {
   "cell_type": "markdown",
   "metadata": {},
   "source": [
    "### Ejercicio 2\n",
    "**Desarrolle en Python una función que devuelva `True` si un número entero que recibe como parámetro es primo, y devuelva `False` en caso contrario.**\n",
    "\n",
    "Un número primo es mayor que 1 y divisible solo por 1 y por sí mismo.\n"
   ]
  },
  {
   "cell_type": "code",
   "execution_count": 2,
   "metadata": {},
   "outputs": [
    {
     "name": "stdout",
     "output_type": "stream",
     "text": [
      "True\n",
      "False\n",
      "True\n"
     ]
    }
   ],
   "source": [
    "def es_primo(n):\n",
    "    if n <= 1:\n",
    "        return False\n",
    "    for i in range(2, int(n**0.5) + 1):\n",
    "        if n % i == 0:\n",
    "            return False\n",
    "    return True\n",
    "\n",
    "# Pruebas\n",
    "print(es_primo(2))   # True\n",
    "print(es_primo(15))  # False\n",
    "print(es_primo(17))  # True\n"
   ]
  },
  {
   "cell_type": "markdown",
   "metadata": {},
   "source": [
    "### Ejercicio 3\n",
    "**Haga un programa en Python que, dada una lista de `n` números, calcule la desviación estándar del conjunto de números.**  \n",
    "**No puede utilizar ninguna función que resuelva directamente el problema (como `numpy.std()` o `statistics.stdev()`).**\n",
    "\n",
    "La fórmula de desviación estándar es:\n",
    "\n",
    "\\[\n",
    "\\sigma = \\sqrt{\\frac{1}{n} \\sum_{i=1}^{n} (x_i - \\bar{x})^2}\n",
    "\\]\n"
   ]
  },
  {
   "cell_type": "code",
   "execution_count": 3,
   "metadata": {},
   "outputs": [
    {
     "name": "stdout",
     "output_type": "stream",
     "text": [
      "Desviación estándar: 4.90\n"
     ]
    }
   ],
   "source": [
    "def desviacion_estandar(lista):\n",
    "    n = len(lista)\n",
    "    media = sum(lista) / n\n",
    "    suma_cuadrados = sum((x - media) ** 2 for x in lista)\n",
    "    varianza = suma_cuadrados / n\n",
    "    desviacion = varianza ** 0.5\n",
    "    return desviacion\n",
    "\n",
    "# Prueba\n",
    "numeros = [10, 12, 23, 23, 16, 23, 21, 16]\n",
    "print(f\"Desviación estándar: {desviacion_estandar(numeros):.2f}\")\n"
   ]
  },
  {
   "cell_type": "markdown",
   "metadata": {},
   "source": [
    "### Ejercicio 4\n",
    "**Desarrolle en Python una función que, dado un arreglo, corra el algoritmo de ordenamiento burbuja y devuelva un nuevo arreglo ordenado.**  \n",
    "**Posteriormente, cree una función `main()` para probar su función.**\n"
   ]
  },
  {
   "cell_type": "code",
   "execution_count": 4,
   "metadata": {},
   "outputs": [
    {
     "name": "stdout",
     "output_type": "stream",
     "text": [
      "Lista original: [64, 34, 25, 12, 22, 11, 90]\n",
      "Lista ordenada: [11, 12, 22, 25, 34, 64, 90]\n"
     ]
    }
   ],
   "source": [
    "def burbuja(arr):\n",
    "    n = len(arr)\n",
    "    resultado = arr.copy()\n",
    "    for i in range(n):\n",
    "        for j in range(0, n - i - 1):\n",
    "            if resultado[j] > resultado[j + 1]:\n",
    "                resultado[j], resultado[j + 1] = resultado[j + 1], resultado[j]\n",
    "    return resultado\n",
    "\n",
    "def main():\n",
    "    lista = [64, 34, 25, 12, 22, 11, 90]\n",
    "    ordenada = burbuja(lista)\n",
    "    print(\"Lista original:\", lista)\n",
    "    print(\"Lista ordenada:\", ordenada)\n",
    "\n",
    "# Ejecutar prueba\n",
    "main()\n"
   ]
  },
  {
   "cell_type": "markdown",
   "metadata": {},
   "source": [
    "### Ejercicio 5\n",
    "**Escriba una función en Python que, dada una tupla de elementos (números o letras), esta se convierta a un string.**\n",
    "\n",
    "**Ejemplo:**  \n",
    "Entrada: `(10, 20, 40, 5, 70)`  \n",
    "Salida: `'102040570'`\n"
   ]
  },
  {
   "cell_type": "code",
   "execution_count": 5,
   "metadata": {},
   "outputs": [
    {
     "name": "stdout",
     "output_type": "stream",
     "text": [
      "Resultado: 102040570\n"
     ]
    }
   ],
   "source": [
    "def tupla_a_string(tupla):\n",
    "    return ''.join(str(elemento) for elemento in tupla)\n",
    "\n",
    "# Prueba\n",
    "t = (10, 20, 40, 5, 70)\n",
    "resultado = tupla_a_string(t)\n",
    "print(\"Resultado:\", resultado)\n"
   ]
  },
  {
   "cell_type": "markdown",
   "metadata": {},
   "source": [
    "### Ejercicio 6\n",
    "**Cree un programa en Python que, dada una lista de tuplas, elimine las tuplas que están vacías.**\n",
    "\n",
    "**Ejemplo:**  \n",
    "Entrada: `[(), (), ('X',), ('a', 'b'), ('a', 'b', 'c'), ('d',)]`  \n",
    "Salida: `[('X',), ('a', 'b'), ('a', 'b', 'c'), ('d',)]`\n"
   ]
  },
  {
   "cell_type": "code",
   "execution_count": 6,
   "metadata": {},
   "outputs": [
    {
     "name": "stdout",
     "output_type": "stream",
     "text": [
      "Resultado: [('X',), ('a', 'b'), ('a', 'b', 'c'), ('d',)]\n"
     ]
    }
   ],
   "source": [
    "def eliminar_tuplas_vacias(lista):\n",
    "    return [t for t in lista if t]\n",
    "\n",
    "# Prueba\n",
    "lista = [(), (), ('X',), ('a', 'b'), ('a', 'b', 'c'), ('d',)]\n",
    "resultado = eliminar_tuplas_vacias(lista)\n",
    "print(\"Resultado:\", resultado)\n"
   ]
  },
  {
   "cell_type": "markdown",
   "metadata": {},
   "source": [
    "### Ejercicio 7\n",
    "**Cree una función en Python que, dada una tupla de tuplas con números, produzca una tupla con el promedio de cada tupla individual.**\n",
    "\n",
    "**Ejemplo:**  \n",
    "Entrada: `((10, 10, 10, 12), (30, 45, 56, 45), (81, 80, 39, 32))`  \n",
    "Salida: `(10.5, 44.0, 58.0)`\n"
   ]
  },
  {
   "cell_type": "code",
   "execution_count": 7,
   "metadata": {},
   "outputs": [
    {
     "name": "stdout",
     "output_type": "stream",
     "text": [
      "Resultado: (10.5, 44.0, 58.0)\n"
     ]
    }
   ],
   "source": [
    "def promedios_por_tupla(tuplas):\n",
    "    return tuple(sum(t) / len(t) for t in tuplas)\n",
    "\n",
    "# Prueba\n",
    "entrada = ((10, 10, 10, 12), (30, 45, 56, 45), (81, 80, 39, 32))\n",
    "resultado = promedios_por_tupla(entrada)\n",
    "print(\"Resultado:\", resultado)\n"
   ]
  },
  {
   "cell_type": "markdown",
   "metadata": {},
   "source": [
    "### Ejercicio 8\n",
    "**Crear una clase `Libro` con programación orientada a objetos.**  \n",
    "Debe tener:\n",
    "\n",
    "- Atributos: `título`, `autor`, `número de páginas`, `leído` (booleano).\n",
    "- Métodos:\n",
    "  - Inicializar un nuevo libro con su información.\n",
    "  - Marcar un libro como leído.\n",
    "  - Producir una descripción legible del libro con todos sus detalles.\n"
   ]
  },
  {
   "cell_type": "code",
   "execution_count": 8,
   "metadata": {},
   "outputs": [
    {
     "name": "stdout",
     "output_type": "stream",
     "text": [
      "'1984' de George Orwell, 328 páginas, estado: no leído.\n",
      "'1984' de George Orwell, 328 páginas, estado: leído.\n"
     ]
    }
   ],
   "source": [
    "class Libro:\n",
    "    def __init__(self, titulo, autor, paginas):\n",
    "        self.titulo = titulo\n",
    "        self.autor = autor\n",
    "        self.paginas = paginas\n",
    "        self.leido = False\n",
    "\n",
    "    def marcar_como_leido(self):\n",
    "        self.leido = True\n",
    "\n",
    "    def descripcion(self):\n",
    "        estado = \"leído\" if self.leido else \"no leído\"\n",
    "        return f\"'{self.titulo}' de {self.autor}, {self.paginas} páginas, estado: {estado}.\"\n",
    "\n",
    "# Prueba\n",
    "libro1 = Libro(\"1984\", \"George Orwell\", 328)\n",
    "print(libro1.descripcion())\n",
    "\n",
    "libro1.marcar_como_leido()\n",
    "print(libro1.descripcion())\n"
   ]
  },
  {
   "cell_type": "markdown",
   "metadata": {},
   "source": [
    "### Ejercicio 9\n",
    "**Cree una clase llamada `Circulo` con un atributo para el radio del círculo.**  \n",
    "Debe implementar los siguientes métodos:\n",
    "\n",
    "- Inicializar un nuevo círculo con su radio.  \n",
    "- Calcular el área del círculo.  \n",
    "- Calcular la circunferencia del círculo.\n"
   ]
  },
  {
   "cell_type": "code",
   "execution_count": 9,
   "metadata": {},
   "outputs": [
    {
     "name": "stdout",
     "output_type": "stream",
     "text": [
      "Área: 78.54\n",
      "Circunferencia: 31.42\n"
     ]
    }
   ],
   "source": [
    "import math\n",
    "\n",
    "class Circulo:\n",
    "    def __init__(self, radio):\n",
    "        self.radio = radio\n",
    "\n",
    "    def area(self):\n",
    "        return math.pi * self.radio ** 2\n",
    "\n",
    "    def circunferencia(self):\n",
    "        return 2 * math.pi * self.radio\n",
    "\n",
    "# Prueba\n",
    "c = Circulo(5)\n",
    "print(f\"Área: {c.area():.2f}\")\n",
    "print(f\"Circunferencia: {c.circunferencia():.2f}\")\n"
   ]
  }
 ],
 "metadata": {
  "kernelspec": {
   "display_name": "Python 3",
   "language": "python",
   "name": "python3"
  },
  "language_info": {
   "codemirror_mode": {
    "name": "ipython",
    "version": 3
   },
   "file_extension": ".py",
   "mimetype": "text/x-python",
   "name": "python",
   "nbconvert_exporter": "python",
   "pygments_lexer": "ipython3",
   "version": "3.12.9"
  }
 },
 "nbformat": 4,
 "nbformat_minor": 2
}
